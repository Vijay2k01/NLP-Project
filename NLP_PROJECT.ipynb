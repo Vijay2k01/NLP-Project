{
  "cells": [
    {
      "cell_type": "markdown",
      "metadata": {
        "id": "VyBoRfFt1OFE"
      },
      "source": [
        "## **Multi-Class Text Classification for make-up products by using Neural Networks**\n",
        "\n",
        "In this project, we used Neural Network and Convolutional Neural Netwok to the text classification. "
      ]
    },
    {
      "cell_type": "code",
      "execution_count": null,
      "metadata": {
        "id": "KfS8veRQ3_qg"
      },
      "outputs": [],
      "source": [
        "import numpy as np\n",
        "import pandas as pd\n",
        "import matplotlib.pyplot as plt\n",
        "%matplotlib inline\n",
        "\n",
        "from sklearn.model_selection import train_test_split\n",
        "from sklearn.preprocessing import LabelBinarizer, LabelEncoder\n",
        "from sklearn.metrics import confusion_matrix\n",
        "\n",
        "import tensorflow as tf\n",
        "from tensorflow import keras\n",
        "from keras.models import Sequential\n",
        "from keras.layers import Dense, Flatten, Activation, Dropout, GlobalMaxPool1D, Conv1D\n",
        "from keras.layers.embeddings import Embedding\n",
        "from keras.preprocessing import text, sequence\n",
        "from keras.preprocessing.text import Tokenizer\n",
        "from keras.preprocessing.sequence import pad_sequences\n",
        "from keras import utils\n",
        "import pandas as pd\n",
        "import numpy as np\n",
        "from nltk.tokenize import word_tokenize\n",
        "from nltk import pos_tag\n",
        "from nltk.corpus import stopwords\n",
        "from nltk.stem import WordNetLemmatizer\n",
        "from sklearn.preprocessing import LabelEncoder\n",
        "from collections import defaultdict\n",
        "from nltk.corpus import wordnet as wn\n",
        "from sklearn.feature_extraction.text import TfidfVectorizer\n",
        "from sklearn import model_selection, naive_bayes, svm\n",
        "from sklearn.metrics import accuracy_score"
      ]
    },
    {
      "cell_type": "code",
      "execution_count": null,
      "metadata": {
        "colab": {
          "base_uri": "https://localhost:8080/",
          "height": 206
        },
        "id": "FgbjCnBU80JM",
        "outputId": "a769df54-8376-4ea5-9def-4232f6d37f69"
      },
      "outputs": [
        {
          "output_type": "execute_result",
          "data": {
            "text/plain": [
              "  product_type                                        description\n",
              "0      lipstic  lippie pencil long wearing high intensity lip ...\n",
              "1      lipstic  blotted lip sheer matte lipstick creates perfe...\n",
              "2      lipstic  lippie stix formula contains vitamin e mango a...\n",
              "3   foundation  developed selfie age buildable full coverage n...\n",
              "4      lipstic  product free lead heavy metal parabens phthala..."
            ],
            "text/html": [
              "\n",
              "  <div id=\"df-df152203-a5dd-4587-9feb-adb285d9df8e\">\n",
              "    <div class=\"colab-df-container\">\n",
              "      <div>\n",
              "<style scoped>\n",
              "    .dataframe tbody tr th:only-of-type {\n",
              "        vertical-align: middle;\n",
              "    }\n",
              "\n",
              "    .dataframe tbody tr th {\n",
              "        vertical-align: top;\n",
              "    }\n",
              "\n",
              "    .dataframe thead th {\n",
              "        text-align: right;\n",
              "    }\n",
              "</style>\n",
              "<table border=\"1\" class=\"dataframe\">\n",
              "  <thead>\n",
              "    <tr style=\"text-align: right;\">\n",
              "      <th></th>\n",
              "      <th>product_type</th>\n",
              "      <th>description</th>\n",
              "    </tr>\n",
              "  </thead>\n",
              "  <tbody>\n",
              "    <tr>\n",
              "      <th>0</th>\n",
              "      <td>lipstic</td>\n",
              "      <td>lippie pencil long wearing high intensity lip ...</td>\n",
              "    </tr>\n",
              "    <tr>\n",
              "      <th>1</th>\n",
              "      <td>lipstic</td>\n",
              "      <td>blotted lip sheer matte lipstick creates perfe...</td>\n",
              "    </tr>\n",
              "    <tr>\n",
              "      <th>2</th>\n",
              "      <td>lipstic</td>\n",
              "      <td>lippie stix formula contains vitamin e mango a...</td>\n",
              "    </tr>\n",
              "    <tr>\n",
              "      <th>3</th>\n",
              "      <td>foundation</td>\n",
              "      <td>developed selfie age buildable full coverage n...</td>\n",
              "    </tr>\n",
              "    <tr>\n",
              "      <th>4</th>\n",
              "      <td>lipstic</td>\n",
              "      <td>product free lead heavy metal parabens phthala...</td>\n",
              "    </tr>\n",
              "  </tbody>\n",
              "</table>\n",
              "</div>\n",
              "      <button class=\"colab-df-convert\" onclick=\"convertToInteractive('df-df152203-a5dd-4587-9feb-adb285d9df8e')\"\n",
              "              title=\"Convert this dataframe to an interactive table.\"\n",
              "              style=\"display:none;\">\n",
              "        \n",
              "  <svg xmlns=\"http://www.w3.org/2000/svg\" height=\"24px\"viewBox=\"0 0 24 24\"\n",
              "       width=\"24px\">\n",
              "    <path d=\"M0 0h24v24H0V0z\" fill=\"none\"/>\n",
              "    <path d=\"M18.56 5.44l.94 2.06.94-2.06 2.06-.94-2.06-.94-.94-2.06-.94 2.06-2.06.94zm-11 1L8.5 8.5l.94-2.06 2.06-.94-2.06-.94L8.5 2.5l-.94 2.06-2.06.94zm10 10l.94 2.06.94-2.06 2.06-.94-2.06-.94-.94-2.06-.94 2.06-2.06.94z\"/><path d=\"M17.41 7.96l-1.37-1.37c-.4-.4-.92-.59-1.43-.59-.52 0-1.04.2-1.43.59L10.3 9.45l-7.72 7.72c-.78.78-.78 2.05 0 2.83L4 21.41c.39.39.9.59 1.41.59.51 0 1.02-.2 1.41-.59l7.78-7.78 2.81-2.81c.8-.78.8-2.07 0-2.86zM5.41 20L4 18.59l7.72-7.72 1.47 1.35L5.41 20z\"/>\n",
              "  </svg>\n",
              "      </button>\n",
              "      \n",
              "  <style>\n",
              "    .colab-df-container {\n",
              "      display:flex;\n",
              "      flex-wrap:wrap;\n",
              "      gap: 12px;\n",
              "    }\n",
              "\n",
              "    .colab-df-convert {\n",
              "      background-color: #E8F0FE;\n",
              "      border: none;\n",
              "      border-radius: 50%;\n",
              "      cursor: pointer;\n",
              "      display: none;\n",
              "      fill: #1967D2;\n",
              "      height: 32px;\n",
              "      padding: 0 0 0 0;\n",
              "      width: 32px;\n",
              "    }\n",
              "\n",
              "    .colab-df-convert:hover {\n",
              "      background-color: #E2EBFA;\n",
              "      box-shadow: 0px 1px 2px rgba(60, 64, 67, 0.3), 0px 1px 3px 1px rgba(60, 64, 67, 0.15);\n",
              "      fill: #174EA6;\n",
              "    }\n",
              "\n",
              "    [theme=dark] .colab-df-convert {\n",
              "      background-color: #3B4455;\n",
              "      fill: #D2E3FC;\n",
              "    }\n",
              "\n",
              "    [theme=dark] .colab-df-convert:hover {\n",
              "      background-color: #434B5C;\n",
              "      box-shadow: 0px 1px 3px 1px rgba(0, 0, 0, 0.15);\n",
              "      filter: drop-shadow(0px 1px 2px rgba(0, 0, 0, 0.3));\n",
              "      fill: #FFFFFF;\n",
              "    }\n",
              "  </style>\n",
              "\n",
              "      <script>\n",
              "        const buttonEl =\n",
              "          document.querySelector('#df-df152203-a5dd-4587-9feb-adb285d9df8e button.colab-df-convert');\n",
              "        buttonEl.style.display =\n",
              "          google.colab.kernel.accessAllowed ? 'block' : 'none';\n",
              "\n",
              "        async function convertToInteractive(key) {\n",
              "          const element = document.querySelector('#df-df152203-a5dd-4587-9feb-adb285d9df8e');\n",
              "          const dataTable =\n",
              "            await google.colab.kernel.invokeFunction('convertToInteractive',\n",
              "                                                     [key], {});\n",
              "          if (!dataTable) return;\n",
              "\n",
              "          const docLinkHtml = 'Like what you see? Visit the ' +\n",
              "            '<a target=\"_blank\" href=https://colab.research.google.com/notebooks/data_table.ipynb>data table notebook</a>'\n",
              "            + ' to learn more about interactive tables.';\n",
              "          element.innerHTML = '';\n",
              "          dataTable['output_type'] = 'display_data';\n",
              "          await google.colab.output.renderOutput(dataTable, element);\n",
              "          const docLink = document.createElement('div');\n",
              "          docLink.innerHTML = docLinkHtml;\n",
              "          element.appendChild(docLink);\n",
              "        }\n",
              "      </script>\n",
              "    </div>\n",
              "  </div>\n",
              "  "
            ]
          },
          "metadata": {},
          "execution_count": 15
        }
      ],
      "source": [
        "Corpus = pd.read_csv('/content/products_clean.csv', header=0,index_col=0)\n",
        "Corpus.head()"
      ]
    },
    {
      "cell_type": "markdown",
      "metadata": {
        "id": "W9rKGKpSBiZh"
      },
      "source": [
        "Spliting the data into train and test sets:"
      ]
    },
    {
      "cell_type": "code",
      "execution_count": null,
      "metadata": {
        "id": "IkHqZeEH8z90"
      },
      "outputs": [],
      "source": [
        "#sentences = Corpus['description']\n",
        "#y = Corpus['product_type']\n",
        "\n",
        "#sentences_train, sentences_test, train_y, test_y = train_test_split(sentences, y, test_size=0.25, random_state=42)\n",
        "Train_X, Test_X, Train_Y, Test_Y = model_selection.train_test_split(Corpus['description'],Corpus['product_type'],test_size=0.3)"
      ]
    },
    {
      "cell_type": "markdown",
      "metadata": {
        "id": "3QAGoEuMFzdb"
      },
      "source": [
        "**Word Embeddings**\n",
        "\n",
        "Word Embedding is a representation of text where words that have the same meaning have a similar representation. It shows words in a coordinate system where related words, based on a corpus of relationships, are placed closer together. In the deep learning frameworks such as  Keras, this part is generally handled by an embedding layer."
      ]
    },
    {
      "cell_type": "code",
      "source": [
        "Tfidf_vect = TfidfVectorizer(max_features=5000)\n",
        "Tfidf_vect.fit(Corpus['product_type'])\n",
        "Train_X_Tfidf = Tfidf_vect.transform(Train_X)\n",
        "Test_X_Tfidf = Tfidf_vect.transform(Test_X)"
      ],
      "metadata": {
        "id": "if0-xHWX08M7"
      },
      "execution_count": null,
      "outputs": []
    },
    {
      "cell_type": "code",
      "source": [
        "print(Tfidf_vect.vocabulary_)"
      ],
      "metadata": {
        "colab": {
          "base_uri": "https://localhost:8080/"
        },
        "id": "o1qx6zME1G-1",
        "outputId": "525646f8-70a3-405b-e482-ef945ebaee4e"
      },
      "execution_count": null,
      "outputs": [
        {
          "output_type": "stream",
          "name": "stdout",
          "text": [
            "{'lipstic': 3, 'foundation': 2, 'eye_makeup': 1, 'contour': 0, 'nail_polish': 4}\n"
          ]
        }
      ]
    },
    {
      "cell_type": "code",
      "source": [
        "print(Train_X_Tfidf)"
      ],
      "metadata": {
        "colab": {
          "base_uri": "https://localhost:8080/"
        },
        "id": "DV-HXUhz1I8r",
        "outputId": "a9f98bbb-17df-44a0-e601-523f50a5e870"
      },
      "execution_count": null,
      "outputs": [
        {
          "output_type": "stream",
          "name": "stdout",
          "text": [
            "  (7, 0)\t1.0\n",
            "  (12, 0)\t1.0\n",
            "  (13, 2)\t1.0\n",
            "  (16, 2)\t1.0\n",
            "  (17, 0)\t1.0\n",
            "  (48, 0)\t1.0\n",
            "  (53, 2)\t1.0\n",
            "  (59, 2)\t1.0\n",
            "  (82, 0)\t1.0\n",
            "  (92, 0)\t1.0\n",
            "  (117, 2)\t1.0\n",
            "  (130, 2)\t1.0\n",
            "  (133, 0)\t1.0\n",
            "  (134, 2)\t1.0\n",
            "  (139, 2)\t1.0\n",
            "  (142, 0)\t1.0\n",
            "  (150, 2)\t1.0\n",
            "  (151, 0)\t1.0\n",
            "  (158, 2)\t1.0\n",
            "  (179, 2)\t1.0\n",
            "  (185, 2)\t1.0\n",
            "  (188, 2)\t1.0\n",
            "  (193, 2)\t1.0\n",
            "  (194, 2)\t1.0\n",
            "  (210, 0)\t1.0\n",
            "  :\t:\n",
            "  (440, 0)\t1.0\n",
            "  (442, 0)\t1.0\n",
            "  (443, 2)\t1.0\n",
            "  (458, 0)\t1.0\n",
            "  (466, 2)\t1.0\n",
            "  (470, 0)\t1.0\n",
            "  (472, 0)\t1.0\n",
            "  (480, 0)\t1.0\n",
            "  (501, 2)\t1.0\n",
            "  (526, 2)\t1.0\n",
            "  (527, 2)\t1.0\n",
            "  (535, 2)\t1.0\n",
            "  (552, 2)\t1.0\n",
            "  (555, 2)\t1.0\n",
            "  (567, 2)\t1.0\n",
            "  (570, 2)\t1.0\n",
            "  (576, 0)\t1.0\n",
            "  (593, 2)\t1.0\n",
            "  (596, 2)\t1.0\n",
            "  (599, 0)\t1.0\n",
            "  (613, 2)\t1.0\n",
            "  (614, 2)\t1.0\n",
            "  (627, 2)\t1.0\n",
            "  (631, 2)\t1.0\n",
            "  (632, 2)\t1.0\n"
          ]
        }
      ]
    },
    {
      "cell_type": "code",
      "source": [
        "# fit the training dataset on the NB classifier\n",
        "Naive = naive_bayes.MultinomialNB()\n",
        "Naive.fit(Train_X_Tfidf,Train_Y)\n",
        "# predict the labels on validation dataset\n",
        "predictions_NB = Naive.predict(Test_X_Tfidf)\n",
        "# Use accuracy_score function to get the accuracy\n",
        "print(\"Naive Bayes Accuracy Score -> \",accuracy_score(predictions_NB, Test_Y)*100)"
      ],
      "metadata": {
        "colab": {
          "base_uri": "https://localhost:8080/"
        },
        "id": "E0yFviRX1OWH",
        "outputId": "81904ac5-8c53-4a73-dc0a-932d7ae9d721"
      },
      "execution_count": null,
      "outputs": [
        {
          "output_type": "stream",
          "name": "stdout",
          "text": [
            "Naive Bayes Accuracy Score ->  50.36764705882353\n"
          ]
        }
      ]
    },
    {
      "cell_type": "code",
      "source": [
        "# Classifier - Algorithm - SVM\n",
        "# fit the training dataset on the classifier\n",
        "SVM = svm.SVC(C=1.0, kernel='linear', degree=3, gamma='auto')\n",
        "SVM.fit(Train_X_Tfidf,Train_Y)\n",
        "# predict the labels on validation dataset\n",
        "predictions_SVM = SVM.predict(Test_X_Tfidf)\n",
        "# Use accuracy_score function to get the accuracy\n",
        "print(\"SVM Accuracy Score -> \",accuracy_score(predictions_SVM, Test_Y)*100)"
      ],
      "metadata": {
        "colab": {
          "base_uri": "https://localhost:8080/"
        },
        "id": "OCTTN12s1Rfn",
        "outputId": "36cea14d-f337-4cc9-9df9-be64b23e94c3"
      },
      "execution_count": null,
      "outputs": [
        {
          "output_type": "stream",
          "name": "stdout",
          "text": [
            "SVM Accuracy Score ->  51.83823529411765\n"
          ]
        }
      ]
    },
    {
      "cell_type": "code",
      "execution_count": null,
      "metadata": {
        "colab": {
          "base_uri": "https://localhost:8080/",
          "height": 394
        },
        "id": "GZKPGXLlCADP",
        "outputId": "46c7ca1a-8c50-47b0-c37b-8849bda65b5f"
      },
      "outputs": [
        {
          "output_type": "error",
          "ename": "ValueError",
          "evalue": "ignored",
          "traceback": [
            "\u001b[0;31m---------------------------------------------------------------------------\u001b[0m",
            "\u001b[0;31mValueError\u001b[0m                                Traceback (most recent call last)",
            "\u001b[0;32m<ipython-input-27-53e41dd63444>\u001b[0m in \u001b[0;36m<module>\u001b[0;34m()\u001b[0m\n\u001b[1;32m      1\u001b[0m \u001b[0mmaxlen\u001b[0m \u001b[0;34m=\u001b[0m \u001b[0;36m50\u001b[0m\u001b[0;34m\u001b[0m\u001b[0;34m\u001b[0m\u001b[0m\n\u001b[1;32m      2\u001b[0m \u001b[0;34m\u001b[0m\u001b[0m\n\u001b[0;32m----> 3\u001b[0;31m \u001b[0mX_train\u001b[0m \u001b[0;34m=\u001b[0m \u001b[0mpad_sequences\u001b[0m\u001b[0;34m(\u001b[0m\u001b[0mTrain_X\u001b[0m\u001b[0;34m,\u001b[0m \u001b[0mpadding\u001b[0m\u001b[0;34m=\u001b[0m\u001b[0;34m'post'\u001b[0m\u001b[0;34m,\u001b[0m \u001b[0mmaxlen\u001b[0m\u001b[0;34m=\u001b[0m\u001b[0mmaxlen\u001b[0m\u001b[0;34m)\u001b[0m\u001b[0;34m\u001b[0m\u001b[0;34m\u001b[0m\u001b[0m\n\u001b[0m\u001b[1;32m      4\u001b[0m \u001b[0mX_test\u001b[0m \u001b[0;34m=\u001b[0m \u001b[0mpad_sequences\u001b[0m\u001b[0;34m(\u001b[0m\u001b[0mTest_X\u001b[0m\u001b[0;34m,\u001b[0m \u001b[0mpadding\u001b[0m\u001b[0;34m=\u001b[0m\u001b[0;34m'post'\u001b[0m\u001b[0;34m,\u001b[0m \u001b[0mmaxlen\u001b[0m\u001b[0;34m=\u001b[0m\u001b[0mmaxlen\u001b[0m\u001b[0;34m)\u001b[0m\u001b[0;34m\u001b[0m\u001b[0;34m\u001b[0m\u001b[0m\n\u001b[1;32m      5\u001b[0m \u001b[0;34m\u001b[0m\u001b[0m\n",
            "\u001b[0;32m/usr/local/lib/python3.7/dist-packages/keras/preprocessing/sequence.py\u001b[0m in \u001b[0;36mpad_sequences\u001b[0;34m(sequences, maxlen, dtype, padding, truncating, value)\u001b[0m\n\u001b[1;32m    152\u001b[0m   return sequence.pad_sequences(\n\u001b[1;32m    153\u001b[0m       \u001b[0msequences\u001b[0m\u001b[0;34m,\u001b[0m \u001b[0mmaxlen\u001b[0m\u001b[0;34m=\u001b[0m\u001b[0mmaxlen\u001b[0m\u001b[0;34m,\u001b[0m \u001b[0mdtype\u001b[0m\u001b[0;34m=\u001b[0m\u001b[0mdtype\u001b[0m\u001b[0;34m,\u001b[0m\u001b[0;34m\u001b[0m\u001b[0;34m\u001b[0m\u001b[0m\n\u001b[0;32m--> 154\u001b[0;31m       padding=padding, truncating=truncating, value=value)\n\u001b[0m\u001b[1;32m    155\u001b[0m \u001b[0;34m\u001b[0m\u001b[0m\n\u001b[1;32m    156\u001b[0m keras_export(\n",
            "\u001b[0;32m/usr/local/lib/python3.7/dist-packages/keras_preprocessing/sequence.py\u001b[0m in \u001b[0;36mpad_sequences\u001b[0;34m(sequences, maxlen, dtype, padding, truncating, value)\u001b[0m\n\u001b[1;32m     96\u001b[0m \u001b[0;34m\u001b[0m\u001b[0m\n\u001b[1;32m     97\u001b[0m         \u001b[0;31m# check `trunc` has expected shape\u001b[0m\u001b[0;34m\u001b[0m\u001b[0;34m\u001b[0m\u001b[0;34m\u001b[0m\u001b[0m\n\u001b[0;32m---> 98\u001b[0;31m         \u001b[0mtrunc\u001b[0m \u001b[0;34m=\u001b[0m \u001b[0mnp\u001b[0m\u001b[0;34m.\u001b[0m\u001b[0masarray\u001b[0m\u001b[0;34m(\u001b[0m\u001b[0mtrunc\u001b[0m\u001b[0;34m,\u001b[0m \u001b[0mdtype\u001b[0m\u001b[0;34m=\u001b[0m\u001b[0mdtype\u001b[0m\u001b[0;34m)\u001b[0m\u001b[0;34m\u001b[0m\u001b[0;34m\u001b[0m\u001b[0m\n\u001b[0m\u001b[1;32m     99\u001b[0m         \u001b[0;32mif\u001b[0m \u001b[0mtrunc\u001b[0m\u001b[0;34m.\u001b[0m\u001b[0mshape\u001b[0m\u001b[0;34m[\u001b[0m\u001b[0;36m1\u001b[0m\u001b[0;34m:\u001b[0m\u001b[0;34m]\u001b[0m \u001b[0;34m!=\u001b[0m \u001b[0msample_shape\u001b[0m\u001b[0;34m:\u001b[0m\u001b[0;34m\u001b[0m\u001b[0;34m\u001b[0m\u001b[0m\n\u001b[1;32m    100\u001b[0m             raise ValueError('Shape of sample %s of sequence at position %s '\n",
            "\u001b[0;31mValueError\u001b[0m: invalid literal for int() with base 10: 'oxide black ci manganese violet ci titaniumdioxide'"
          ]
        }
      ],
      "source": [
        "maxlen = 50\n",
        "\n",
        "X_train = pad_sequences(Train_X, padding='post', maxlen=maxlen)\n",
        "X_test = pad_sequences(Test_X, padding='post', maxlen=maxlen)\n",
        "\n",
        "print(X_train[0, :])"
      ]
    },
    {
      "cell_type": "code",
      "execution_count": null,
      "metadata": {
        "id": "GhK21EV2I9VQ"
      },
      "outputs": [],
      "source": [
        "from keras.utils import np_utils\n",
        "encoder = LabelEncoder()\n",
        "encoder.fit(train_y)\n",
        "y_train = encoder.transform(train_y)\n",
        "y_test = encoder.transform(test_y)\n",
        "\n",
        "num_classes = np.max(y_train) + 1\n",
        "y_train = keras.utils.to_categorical(y_train, num_classes)\n",
        "y_test = keras.utils.to_categorical(y_test, num_classes)"
      ]
    },
    {
      "cell_type": "markdown",
      "metadata": {
        "id": "QKAWaiZuHjm6"
      },
      "source": [
        "**Building the neural network model**\n",
        "\n",
        "We built and trained a several models to choose best of them. First of them is a simple neural network model."
      ]
    },
    {
      "cell_type": "code",
      "execution_count": null,
      "metadata": {
        "colab": {
          "base_uri": "https://localhost:8080/"
        },
        "id": "Kcaj0Pp2CANk",
        "outputId": "8a581068-cb72-443c-852e-9f50357a4695"
      },
      "outputs": [
        {
          "output_type": "stream",
          "name": "stdout",
          "text": [
            "Model: \"sequential\"\n",
            "_________________________________________________________________\n",
            " Layer (type)                Output Shape              Param #   \n",
            "=================================================================\n",
            " embedding (Embedding)       (None, 100, 16)           72304     \n",
            "                                                                 \n",
            " flatten (Flatten)           (None, 1600)              0         \n",
            "                                                                 \n",
            " dense (Dense)               (None, 16)                25616     \n",
            "                                                                 \n",
            " dense_1 (Dense)             (None, 5)                 85        \n",
            "                                                                 \n",
            "=================================================================\n",
            "Total params: 98,005\n",
            "Trainable params: 98,005\n",
            "Non-trainable params: 0\n",
            "_________________________________________________________________\n"
          ]
        }
      ],
      "source": [
        "embedding_dim = 16\n",
        "\n",
        "model = Sequential()\n",
        "model.add(Embedding(input_dim=vocab_size, output_dim=embedding_dim, input_length=maxlen))\n",
        "model.add(Flatten())\n",
        "model.add(Dense(16, activation='relu'))\n",
        "model.add(Dense(5, activation='softmax'))\n",
        "\n",
        "model.compile(optimizer='adam',\n",
        "              loss='categorical_crossentropy',\n",
        "              metrics=['accuracy'])\n",
        "model.summary()\n"
      ]
    },
    {
      "cell_type": "code",
      "execution_count": null,
      "metadata": {
        "colab": {
          "base_uri": "https://localhost:8080/",
          "height": 533
        },
        "id": "yXEsYFuNYnJT",
        "outputId": "33848b39-7eac-49d9-8f55-34ff86f8728b"
      },
      "outputs": [
        {
          "output_type": "execute_result",
          "data": {
            "text/plain": [
              "<IPython.core.display.Image object>"
            ],
            "image/png": "[encoded data removed]"
          },
          "metadata": {},
          "execution_count": 11
        }
      ],
      "source": [
        "from keras.utils.vis_utils import plot_model\n",
        "plot_model(model, to_file='model_1.png', show_shapes=True, show_layer_names=True)"
      ]
    },
    {
      "cell_type": "code",
      "execution_count": null,
      "metadata": {
        "colab": {
          "base_uri": "https://localhost:8080/"
        },
        "id": "roe26IFLCAJk",
        "outputId": "cf7292e9-a7b2-493d-e605-ecb804330906"
      },
      "outputs": [
        {
          "output_type": "stream",
          "name": "stdout",
          "text": [
            "Epoch 1/15\n",
            "22/22 [==============================] - 1s 14ms/step - loss: 1.5380 - accuracy: 0.3756 - val_loss: 1.4221 - val_accuracy: 0.4670\n",
            "Epoch 2/15\n",
            "22/22 [==============================] - 0s 5ms/step - loss: 1.4487 - accuracy: 0.4050 - val_loss: 1.3868 - val_accuracy: 0.4758\n",
            "Epoch 3/15\n",
            "22/22 [==============================] - 0s 6ms/step - loss: 1.3750 - accuracy: 0.4212 - val_loss: 1.3116 - val_accuracy: 0.4802\n",
            "Epoch 4/15\n",
            "22/22 [==============================] - 0s 5ms/step - loss: 1.2404 - accuracy: 0.4919 - val_loss: 1.1805 - val_accuracy: 0.5022\n",
            "Epoch 5/15\n",
            "22/22 [==============================] - 0s 5ms/step - loss: 1.0367 - accuracy: 0.6568 - val_loss: 0.9856 - val_accuracy: 0.6564\n",
            "Epoch 6/15\n",
            "22/22 [==============================] - 0s 5ms/step - loss: 0.7926 - accuracy: 0.8159 - val_loss: 0.8134 - val_accuracy: 0.8326\n",
            "Epoch 7/15\n",
            "22/22 [==============================] - 0s 6ms/step - loss: 0.5582 - accuracy: 0.9161 - val_loss: 0.6325 - val_accuracy: 0.8678\n",
            "Epoch 8/15\n",
            "22/22 [==============================] - 0s 5ms/step - loss: 0.3738 - accuracy: 0.9543 - val_loss: 0.5185 - val_accuracy: 0.8899\n",
            "Epoch 9/15\n",
            "22/22 [==============================] - 0s 5ms/step - loss: 0.2536 - accuracy: 0.9647 - val_loss: 0.4346 - val_accuracy: 0.8987\n",
            "Epoch 10/15\n",
            "22/22 [==============================] - 0s 5ms/step - loss: 0.1764 - accuracy: 0.9750 - val_loss: 0.3930 - val_accuracy: 0.9075\n",
            "Epoch 11/15\n",
            "22/22 [==============================] - 0s 5ms/step - loss: 0.1290 - accuracy: 0.9838 - val_loss: 0.3494 - val_accuracy: 0.9119\n",
            "Epoch 12/15\n",
            "22/22 [==============================] - 0s 5ms/step - loss: 0.0964 - accuracy: 0.9897 - val_loss: 0.3246 - val_accuracy: 0.9119\n",
            "Epoch 13/15\n",
            "22/22 [==============================] - 0s 5ms/step - loss: 0.0750 - accuracy: 0.9956 - val_loss: 0.3131 - val_accuracy: 0.9207\n",
            "Epoch 14/15\n",
            "22/22 [==============================] - 0s 5ms/step - loss: 0.0601 - accuracy: 0.9971 - val_loss: 0.2960 - val_accuracy: 0.9207\n",
            "Epoch 15/15\n",
            "22/22 [==============================] - 0s 5ms/step - loss: 0.0485 - accuracy: 0.9985 - val_loss: 0.2944 - val_accuracy: 0.9163\n"
          ]
        }
      ],
      "source": [
        "history = model.fit(X_train, y_train,\n",
        "                    batch_size=32,\n",
        "                    epochs=15,\n",
        "                    validation_data=(X_test, y_test))"
      ]
    },
    {
      "cell_type": "code",
      "execution_count": null,
      "metadata": {
        "colab": {
          "base_uri": "https://localhost:8080/"
        },
        "id": "Vf2choBvCAIA",
        "outputId": "543f70a4-2c52-4779-863c-31b2d601bf53"
      },
      "outputs": [
        {
          "output_type": "stream",
          "name": "stdout",
          "text": [
            "Training Accuracy: 0.9985\n",
            "Testing Accuracy:  0.9163\n"
          ]
        }
      ],
      "source": [
        "loss, accuracy = model.evaluate(X_train, y_train, verbose=False)\n",
        "print(\"Training Accuracy: {:.4f}\".format(accuracy))\n",
        "loss, accuracy = model.evaluate(X_test, y_test, verbose=False)\n",
        "print(\"Testing Accuracy:  {:.4f}\".format(accuracy))"
      ]
    },
    {
      "cell_type": "code",
      "execution_count": null,
      "metadata": {
        "colab": {
          "base_uri": "https://localhost:8080/",
          "height": 544
        },
        "id": "EG835YuIB__f",
        "outputId": "391505c9-6f35-4ebe-d7c1-1f9a940f469b"
      },
      "outputs": [
        {
          "output_type": "display_data",
          "data": {
            "text/plain": [
              "<Figure size 432x288 with 1 Axes>"
            ],
            "image/png": "[encoded data removed]"
          },
          "metadata": {
            "needs_background": "light"
          }
        },
        {
          "output_type": "display_data",
          "data": {
            "text/plain": [
              "<Figure size 432x288 with 1 Axes>"
            ],
            "image/png": "[encoded data removed]"
          },
          "metadata": {
            "needs_background": "light"
          }
        }
      ],
      "source": [
        "def plot_graphs(history, string):\n",
        "    plt.plot(history.history[string])\n",
        "    plt.plot(history.history['val_'+string])\n",
        "    plt.xlabel(\"Epochs\")\n",
        "    plt.ylabel(string)\n",
        "    plt.legend([string, 'val_'+string])\n",
        "    plt.show()\n",
        "\n",
        "plot_graphs(history, \"accuracy\")\n",
        "plot_graphs(history, \"loss\")"
      ]
    },
    {
      "cell_type": "markdown",
      "metadata": {
        "id": "eBlERERxQx3D"
      },
      "source": [
        " At the end of the training, we can see that there is a little bit overfitting. \n",
        " \n",
        " Now we add dropout layers as a method of regularization."
      ]
    },
    {
      "cell_type": "code",
      "execution_count": null,
      "metadata": {
        "colab": {
          "base_uri": "https://localhost:8080/"
        },
        "id": "jfDsrM1uNkXF",
        "outputId": "14ed8059-6bd0-4b98-f0f4-1926c1f40c22"
      },
      "outputs": [
        {
          "output_type": "stream",
          "name": "stdout",
          "text": [
            "Model: \"sequential_1\"\n",
            "_________________________________________________________________\n",
            " Layer (type)                Output Shape              Param #   \n",
            "=================================================================\n",
            " embedding_1 (Embedding)     (None, 100, 16)           72304     \n",
            "                                                                 \n",
            " flatten_1 (Flatten)         (None, 1600)              0         \n",
            "                                                                 \n",
            " dense_2 (Dense)             (None, 16)                25616     \n",
            "                                                                 \n",
            " dropout (Dropout)           (None, 16)                0         \n",
            "                                                                 \n",
            " dense_3 (Dense)             (None, 5)                 85        \n",
            "                                                                 \n",
            "=================================================================\n",
            "Total params: 98,005\n",
            "Trainable params: 98,005\n",
            "Non-trainable params: 0\n",
            "_________________________________________________________________\n"
          ]
        }
      ],
      "source": [
        "model2 = Sequential()\n",
        "model2.add(Embedding(input_dim=vocab_size, output_dim=embedding_dim, input_length=maxlen))\n",
        "model2.add(Flatten())\n",
        "model2.add(Dense(16, activation='relu'))\n",
        "model2.add(Dropout(0.5))\n",
        "model2.add(Dense(5, activation='softmax'))\n",
        "\n",
        "model2.compile(optimizer='adam',\n",
        "              loss='categorical_crossentropy',\n",
        "              metrics=['accuracy'])\n",
        "model2.summary()"
      ]
    },
    {
      "cell_type": "code",
      "execution_count": null,
      "metadata": {
        "colab": {
          "base_uri": "https://localhost:8080/"
        },
        "id": "ZTgUrOswNkK5",
        "outputId": "7880087b-3363-45d4-f2e0-18c6bee3df1a"
      },
      "outputs": [
        {
          "output_type": "stream",
          "name": "stdout",
          "text": [
            "Epoch 1/15\n",
            "22/22 [==============================] - 1s 12ms/step - loss: 1.5638 - accuracy: 0.3314 - val_loss: 1.4575 - val_accuracy: 0.4670\n",
            "Epoch 2/15\n",
            "22/22 [==============================] - 0s 6ms/step - loss: 1.5183 - accuracy: 0.3859 - val_loss: 1.4460 - val_accuracy: 0.4714\n",
            "Epoch 3/15\n",
            "22/22 [==============================] - 0s 5ms/step - loss: 1.4865 - accuracy: 0.3976 - val_loss: 1.4223 - val_accuracy: 0.4714\n",
            "Epoch 4/15\n",
            "22/22 [==============================] - 0s 5ms/step - loss: 1.4292 - accuracy: 0.4227 - val_loss: 1.3594 - val_accuracy: 0.4802\n",
            "Epoch 5/15\n",
            "22/22 [==============================] - 0s 5ms/step - loss: 1.3175 - accuracy: 0.4713 - val_loss: 1.2560 - val_accuracy: 0.5198\n",
            "Epoch 6/15\n",
            "22/22 [==============================] - 0s 5ms/step - loss: 1.1762 - accuracy: 0.5214 - val_loss: 1.1131 - val_accuracy: 0.6211\n",
            "Epoch 7/15\n",
            "22/22 [==============================] - 0s 5ms/step - loss: 1.0402 - accuracy: 0.5994 - val_loss: 0.9639 - val_accuracy: 0.7181\n",
            "Epoch 8/15\n",
            "22/22 [==============================] - 0s 5ms/step - loss: 0.8938 - accuracy: 0.6672 - val_loss: 0.8402 - val_accuracy: 0.7401\n",
            "Epoch 9/15\n",
            "22/22 [==============================] - 0s 5ms/step - loss: 0.7728 - accuracy: 0.7467 - val_loss: 0.7342 - val_accuracy: 0.7974\n",
            "Epoch 10/15\n",
            "22/22 [==============================] - 0s 5ms/step - loss: 0.6795 - accuracy: 0.7703 - val_loss: 0.6588 - val_accuracy: 0.8150\n",
            "Epoch 11/15\n",
            "22/22 [==============================] - 0s 6ms/step - loss: 0.5905 - accuracy: 0.8012 - val_loss: 0.5810 - val_accuracy: 0.8590\n",
            "Epoch 12/15\n",
            "22/22 [==============================] - 0s 5ms/step - loss: 0.5118 - accuracy: 0.8321 - val_loss: 0.5273 - val_accuracy: 0.8458\n",
            "Epoch 13/15\n",
            "22/22 [==============================] - 0s 5ms/step - loss: 0.4657 - accuracy: 0.8424 - val_loss: 0.4852 - val_accuracy: 0.8678\n",
            "Epoch 14/15\n",
            "22/22 [==============================] - 0s 5ms/step - loss: 0.4020 - accuracy: 0.8792 - val_loss: 0.4483 - val_accuracy: 0.8590\n",
            "Epoch 15/15\n",
            "22/22 [==============================] - 0s 5ms/step - loss: 0.3582 - accuracy: 0.8837 - val_loss: 0.4218 - val_accuracy: 0.8678\n"
          ]
        }
      ],
      "source": [
        "history_two = model2.fit(X_train, y_train,\n",
        "                        batch_size=32,\n",
        "                        epochs=15,\n",
        "                        validation_data=(X_test, y_test))"
      ]
    },
    {
      "cell_type": "code",
      "execution_count": null,
      "metadata": {
        "colab": {
          "base_uri": "https://localhost:8080/"
        },
        "id": "AZyc27y8HPFR",
        "outputId": "6a965692-d4e7-4481-9ef7-08762a6609ce"
      },
      "outputs": [
        {
          "output_type": "stream",
          "name": "stdout",
          "text": [
            "Training Accuracy: 0.9823\n",
            "Testing Accuracy:  0.8678\n"
          ]
        }
      ],
      "source": [
        "loss, accuracy = model2.evaluate(X_train, y_train, verbose=False)\n",
        "print(\"Training Accuracy: {:.4f}\".format(accuracy))\n",
        "loss, accuracy = model2.evaluate(X_test, y_test, verbose=False)\n",
        "print(\"Testing Accuracy:  {:.4f}\".format(accuracy))"
      ]
    },
    {
      "cell_type": "code",
      "execution_count": null,
      "metadata": {
        "colab": {
          "base_uri": "https://localhost:8080/",
          "height": 541
        },
        "id": "rh4E6tJFHPDj",
        "outputId": "be4fb94c-52df-49a3-886f-a73cd9d02d56"
      },
      "outputs": [
        {
          "output_type": "display_data",
          "data": {
            "text/plain": [
              "<Figure size 432x288 with 1 Axes>"
            ],
            "image/png": "[encoded data removed]"
          },
          "metadata": {
            "needs_background": "light"
          }
        },
        {
          "output_type": "display_data",
          "data": {
            "text/plain": [
              "<Figure size 432x288 with 1 Axes>"
            ],
            "image/png": "[encoded data removed]"
          },
          "metadata": {
            "needs_background": "light"
          }
        }
      ],
      "source": [
        "plot_graphs(history_two, \"accuracy\")\n",
        "plot_graphs(history_two, \"loss\")"
      ]
    },
    {
      "cell_type": "markdown",
      "metadata": {
        "id": "QehmKOWISfPM"
      },
      "source": [
        "Another way to work with embeddings is by using a MaxPooling1D/AveragePooling1D or a GlobalMaxPooling1D/GlobalAveragePooling1D layer after the embedding. \n",
        "\n",
        "In this case we used GlobalMaxPooling1D which is built-in layer Keras and we can add it to the sequential model:"
      ]
    },
    {
      "cell_type": "code",
      "execution_count": null,
      "metadata": {
        "colab": {
          "base_uri": "https://localhost:8080/"
        },
        "id": "odWssW7shNFH",
        "outputId": "3c3609e4-f26d-4326-c210-2ba97c30516a"
      },
      "outputs": [
        {
          "output_type": "stream",
          "name": "stdout",
          "text": [
            "Model: \"sequential_2\"\n",
            "_________________________________________________________________\n",
            " Layer (type)                Output Shape              Param #   \n",
            "=================================================================\n",
            " embedding_2 (Embedding)     (None, 100, 50)           225950    \n",
            "                                                                 \n",
            " global_max_pooling1d (Globa  (None, 50)               0         \n",
            " lMaxPooling1D)                                                  \n",
            "                                                                 \n",
            " dense_4 (Dense)             (None, 16)                816       \n",
            "                                                                 \n",
            " dense_5 (Dense)             (None, 5)                 85        \n",
            "                                                                 \n",
            "=================================================================\n",
            "Total params: 226,851\n",
            "Trainable params: 226,851\n",
            "Non-trainable params: 0\n",
            "_________________________________________________________________\n"
          ]
        }
      ],
      "source": [
        "embedding_dim = 50\n",
        "\n",
        "model3 = Sequential()\n",
        "model3.add(Embedding(input_dim=vocab_size, output_dim=embedding_dim, input_length=maxlen))\n",
        "model3.add(GlobalMaxPool1D())\n",
        "model3.add(Dense(16, activation='relu'))\n",
        "model3.add(Dense(5, activation='softmax'))\n",
        "\n",
        "model3.compile(optimizer='adam',\n",
        "               loss='categorical_crossentropy',\n",
        "               metrics=['accuracy'])\n",
        "\n",
        "model3.summary()"
      ]
    },
    {
      "cell_type": "code",
      "execution_count": null,
      "metadata": {
        "colab": {
          "base_uri": "https://localhost:8080/"
        },
        "id": "4odNmbvthM6z",
        "outputId": "3f8a450e-d5b8-42f1-af90-07504de8e8bb"
      },
      "outputs": [
        {
          "output_type": "stream",
          "name": "stdout",
          "text": [
            "Epoch 1/15\n",
            "22/22 [==============================] - 1s 16ms/step - loss: 1.5945 - accuracy: 0.2062 - val_loss: 1.5692 - val_accuracy: 0.1938\n",
            "Epoch 2/15\n",
            "22/22 [==============================] - 0s 9ms/step - loss: 1.5589 - accuracy: 0.4507 - val_loss: 1.5279 - val_accuracy: 0.5639\n",
            "Epoch 3/15\n",
            "22/22 [==============================] - 0s 9ms/step - loss: 1.5144 - accuracy: 0.5140 - val_loss: 1.4701 - val_accuracy: 0.4934\n",
            "Epoch 4/15\n",
            "22/22 [==============================] - 0s 9ms/step - loss: 1.4467 - accuracy: 0.4683 - val_loss: 1.3884 - val_accuracy: 0.5066\n",
            "Epoch 5/15\n",
            "22/22 [==============================] - 0s 8ms/step - loss: 1.3426 - accuracy: 0.5155 - val_loss: 1.2640 - val_accuracy: 0.5595\n",
            "Epoch 6/15\n",
            "22/22 [==============================] - 0s 9ms/step - loss: 1.1994 - accuracy: 0.5552 - val_loss: 1.1116 - val_accuracy: 0.6123\n",
            "Epoch 7/15\n",
            "22/22 [==============================] - 0s 8ms/step - loss: 1.0328 - accuracy: 0.6760 - val_loss: 0.9562 - val_accuracy: 0.6740\n",
            "Epoch 8/15\n",
            "22/22 [==============================] - 0s 8ms/step - loss: 0.8575 - accuracy: 0.7320 - val_loss: 0.8078 - val_accuracy: 0.7841\n",
            "Epoch 9/15\n",
            "22/22 [==============================] - 0s 9ms/step - loss: 0.7001 - accuracy: 0.8306 - val_loss: 0.6819 - val_accuracy: 0.8282\n",
            "Epoch 10/15\n",
            "22/22 [==============================] - 0s 9ms/step - loss: 0.5648 - accuracy: 0.8940 - val_loss: 0.5788 - val_accuracy: 0.8590\n",
            "Epoch 11/15\n",
            "22/22 [==============================] - 0s 9ms/step - loss: 0.4562 - accuracy: 0.9440 - val_loss: 0.4983 - val_accuracy: 0.8767\n",
            "Epoch 12/15\n",
            "22/22 [==============================] - 0s 9ms/step - loss: 0.3708 - accuracy: 0.9470 - val_loss: 0.4345 - val_accuracy: 0.8899\n",
            "Epoch 13/15\n",
            "22/22 [==============================] - 0s 8ms/step - loss: 0.3022 - accuracy: 0.9647 - val_loss: 0.3881 - val_accuracy: 0.9031\n",
            "Epoch 14/15\n",
            "22/22 [==============================] - 0s 9ms/step - loss: 0.2475 - accuracy: 0.9691 - val_loss: 0.3465 - val_accuracy: 0.9075\n",
            "Epoch 15/15\n",
            "22/22 [==============================] - 0s 8ms/step - loss: 0.2055 - accuracy: 0.9705 - val_loss: 0.3177 - val_accuracy: 0.9075\n"
          ]
        }
      ],
      "source": [
        "history_3 = model3.fit(X_train, y_train,\n",
        "                       batch_size=32,\n",
        "                       epochs=15,\n",
        "                       validation_data=(X_test, y_test))"
      ]
    },
    {
      "cell_type": "code",
      "execution_count": null,
      "metadata": {
        "colab": {
          "base_uri": "https://localhost:8080/"
        },
        "id": "k5rwoZO6h5UW",
        "outputId": "beb8205f-0f9e-46d0-94bf-ee61f19d9962"
      },
      "outputs": [
        {
          "output_type": "stream",
          "name": "stdout",
          "text": [
            "Training Accuracy: 0.9750\n",
            "Testing Accuracy:  0.9075\n"
          ]
        }
      ],
      "source": [
        "loss, accuracy = model3.evaluate(X_train, y_train, verbose=False)\n",
        "print(\"Training Accuracy: {:.4f}\".format(accuracy))\n",
        "loss, accuracy = model3.evaluate(X_test, y_test, verbose=False)\n",
        "print(\"Testing Accuracy:  {:.4f}\".format(accuracy))"
      ]
    },
    {
      "cell_type": "code",
      "execution_count": null,
      "metadata": {
        "colab": {
          "base_uri": "https://localhost:8080/",
          "height": 543
        },
        "id": "gZRVXaW1h9Jc",
        "outputId": "1bd4df71-8526-412f-dfba-9467ab91ff69"
      },
      "outputs": [
        {
          "output_type": "display_data",
          "data": {
            "text/plain": [
              "<Figure size 432x288 with 1 Axes>"
            ],
            "image/png": "[encoded data removed]"
          },
          "metadata": {
            "needs_background": "light"
          }
        },
        {
          "output_type": "display_data",
          "data": {
            "text/plain": [
              "<Figure size 432x288 with 1 Axes>"
            ],
            "image/png": "[encoded data removed]"
          },
          "metadata": {
            "needs_background": "light"
          }
        }
      ],
      "source": [
        "plot_graphs(history_3, \"accuracy\")\n",
        "plot_graphs(history_3, \"loss\")"
      ]
    },
    {
      "cell_type": "markdown",
      "metadata": {
        "id": "-Py68PRLkL5B"
      },
      "source": [
        "#### Final Neural Network model\n",
        "\n",
        "Our final Neural Network consist of an Embedding layer with GlobalMaxPool1D layer, hidden layer using the ReLU activation function. The output layer using the softmax activation function. We also used dropout layers as a method of regularization.\n",
        "We used the Adam optimizer and categorical cross entropy loss as the loss function."
      ]
    },
    {
      "cell_type": "code",
      "execution_count": null,
      "metadata": {
        "colab": {
          "base_uri": "https://localhost:8080/"
        },
        "id": "6TEBDh_LSdfx",
        "outputId": "ce5174ec-3649-4067-8d61-50cc01621bc9"
      },
      "outputs": [
        {
          "output_type": "stream",
          "name": "stdout",
          "text": [
            "Model: \"sequential_3\"\n",
            "_________________________________________________________________\n",
            " Layer (type)                Output Shape              Param #   \n",
            "=================================================================\n",
            " embedding_3 (Embedding)     (None, 100, 50)           225950    \n",
            "                                                                 \n",
            " global_max_pooling1d_1 (Glo  (None, 50)               0         \n",
            " balMaxPooling1D)                                                \n",
            "                                                                 \n",
            " dropout_1 (Dropout)         (None, 50)                0         \n",
            "                                                                 \n",
            " dense_6 (Dense)             (None, 16)                816       \n",
            "                                                                 \n",
            " dropout_2 (Dropout)         (None, 16)                0         \n",
            "                                                                 \n",
            " dense_7 (Dense)             (None, 5)                 85        \n",
            "                                                                 \n",
            "=================================================================\n",
            "Total params: 226,851\n",
            "Trainable params: 226,851\n",
            "Non-trainable params: 0\n",
            "_________________________________________________________________\n"
          ]
        }
      ],
      "source": [
        "embedding_dim = 50\n",
        "\n",
        "model4 = Sequential()\n",
        "model4.add(Embedding(input_dim=vocab_size, output_dim=embedding_dim, input_length=maxlen))\n",
        "model4.add(GlobalMaxPool1D())\n",
        "model4.add(Dropout(0.2))\n",
        "model4.add(Dense(16, activation='relu'))\n",
        "model4.add(Dropout(0.2))\n",
        "model4.add(Dense(5, activation='softmax'))\n",
        "\n",
        "model4.compile(optimizer='adam',\n",
        "               loss='categorical_crossentropy',\n",
        "               metrics=['accuracy'])\n",
        "\n",
        "model4.summary()"
      ]
    },
    {
      "cell_type": "markdown",
      "metadata": {
        "id": "I4iTWcz8kL5C"
      },
      "source": [
        "We trained NN model for 15 epoch:"
      ]
    },
    {
      "cell_type": "code",
      "execution_count": null,
      "metadata": {
        "colab": {
          "base_uri": "https://localhost:8080/"
        },
        "id": "J4qeOHeISdan",
        "outputId": "0ba3def4-c698-4504-c23a-31c4c21a9d00"
      },
      "outputs": [
        {
          "output_type": "stream",
          "name": "stdout",
          "text": [
            "Epoch 1/50\n",
            "22/22 [==============================] - 1s 15ms/step - loss: 1.6016 - accuracy: 0.2769 - val_loss: 1.5719 - val_accuracy: 0.4670\n",
            "Epoch 2/50\n",
            "22/22 [==============================] - 0s 9ms/step - loss: 1.5603 - accuracy: 0.4006 - val_loss: 1.5278 - val_accuracy: 0.4670\n",
            "Epoch 3/50\n",
            "22/22 [==============================] - 0s 8ms/step - loss: 1.5145 - accuracy: 0.4006 - val_loss: 1.4682 - val_accuracy: 0.4670\n",
            "Epoch 4/50\n",
            "22/22 [==============================] - 0s 8ms/step - loss: 1.4549 - accuracy: 0.4138 - val_loss: 1.3956 - val_accuracy: 0.4670\n",
            "Epoch 5/50\n",
            "22/22 [==============================] - 0s 9ms/step - loss: 1.3859 - accuracy: 0.4492 - val_loss: 1.3135 - val_accuracy: 0.4846\n",
            "Epoch 6/50\n",
            "22/22 [==============================] - 0s 8ms/step - loss: 1.3051 - accuracy: 0.4845 - val_loss: 1.2216 - val_accuracy: 0.5286\n",
            "Epoch 7/50\n",
            "22/22 [==============================] - 0s 8ms/step - loss: 1.2189 - accuracy: 0.5228 - val_loss: 1.1197 - val_accuracy: 0.5727\n",
            "Epoch 8/50\n",
            "22/22 [==============================] - 0s 8ms/step - loss: 1.1173 - accuracy: 0.5523 - val_loss: 1.0162 - val_accuracy: 0.5903\n",
            "Epoch 9/50\n",
            "22/22 [==============================] - 0s 8ms/step - loss: 1.0047 - accuracy: 0.5803 - val_loss: 0.9113 - val_accuracy: 0.6652\n",
            "Epoch 10/50\n",
            "22/22 [==============================] - 0s 8ms/step - loss: 0.9206 - accuracy: 0.6333 - val_loss: 0.8227 - val_accuracy: 0.7445\n",
            "Epoch 11/50\n",
            "22/22 [==============================] - 0s 8ms/step - loss: 0.8322 - accuracy: 0.6878 - val_loss: 0.7436 - val_accuracy: 0.7577\n",
            "Epoch 12/50\n",
            "22/22 [==============================] - 0s 8ms/step - loss: 0.7709 - accuracy: 0.7054 - val_loss: 0.6829 - val_accuracy: 0.7709\n",
            "Epoch 13/50\n",
            "22/22 [==============================] - 0s 9ms/step - loss: 0.7122 - accuracy: 0.7231 - val_loss: 0.6266 - val_accuracy: 0.7930\n",
            "Epoch 14/50\n",
            "22/22 [==============================] - 0s 8ms/step - loss: 0.6422 - accuracy: 0.7703 - val_loss: 0.5784 - val_accuracy: 0.8326\n",
            "Epoch 15/50\n",
            "22/22 [==============================] - 0s 8ms/step - loss: 0.6034 - accuracy: 0.7982 - val_loss: 0.5371 - val_accuracy: 0.8811\n",
            "Epoch 16/50\n",
            "22/22 [==============================] - 0s 8ms/step - loss: 0.5680 - accuracy: 0.8247 - val_loss: 0.4971 - val_accuracy: 0.9075\n",
            "Epoch 17/50\n",
            "22/22 [==============================] - 0s 8ms/step - loss: 0.5155 - accuracy: 0.8439 - val_loss: 0.4641 - val_accuracy: 0.9339\n",
            "Epoch 18/50\n",
            "22/22 [==============================] - 0s 8ms/step - loss: 0.4789 - accuracy: 0.8748 - val_loss: 0.4298 - val_accuracy: 0.9295\n",
            "Epoch 19/50\n",
            "22/22 [==============================] - 0s 8ms/step - loss: 0.4279 - accuracy: 0.8954 - val_loss: 0.4032 - val_accuracy: 0.9339\n",
            "Epoch 20/50\n",
            "22/22 [==============================] - 0s 8ms/step - loss: 0.3923 - accuracy: 0.9116 - val_loss: 0.3758 - val_accuracy: 0.9295\n",
            "Epoch 21/50\n",
            "22/22 [==============================] - 0s 8ms/step - loss: 0.3537 - accuracy: 0.9043 - val_loss: 0.3500 - val_accuracy: 0.9295\n",
            "Epoch 22/50\n",
            "22/22 [==============================] - 0s 9ms/step - loss: 0.3376 - accuracy: 0.9234 - val_loss: 0.3266 - val_accuracy: 0.9251\n",
            "Epoch 23/50\n",
            "22/22 [==============================] - 0s 8ms/step - loss: 0.3081 - accuracy: 0.9278 - val_loss: 0.3036 - val_accuracy: 0.9251\n",
            "Epoch 24/50\n",
            "22/22 [==============================] - 0s 9ms/step - loss: 0.2771 - accuracy: 0.9293 - val_loss: 0.2836 - val_accuracy: 0.9295\n",
            "Epoch 25/50\n",
            "22/22 [==============================] - 0s 9ms/step - loss: 0.2577 - accuracy: 0.9440 - val_loss: 0.2731 - val_accuracy: 0.9339\n",
            "Epoch 26/50\n",
            "22/22 [==============================] - 0s 8ms/step - loss: 0.2376 - accuracy: 0.9396 - val_loss: 0.2647 - val_accuracy: 0.9251\n",
            "Epoch 27/50\n",
            "22/22 [==============================] - 0s 8ms/step - loss: 0.2491 - accuracy: 0.9323 - val_loss: 0.2574 - val_accuracy: 0.9251\n",
            "Epoch 28/50\n",
            "22/22 [==============================] - 0s 8ms/step - loss: 0.1982 - accuracy: 0.9529 - val_loss: 0.2476 - val_accuracy: 0.9383\n",
            "Epoch 29/50\n",
            "22/22 [==============================] - 0s 9ms/step - loss: 0.1863 - accuracy: 0.9602 - val_loss: 0.2384 - val_accuracy: 0.9383\n",
            "Epoch 30/50\n",
            "22/22 [==============================] - 0s 8ms/step - loss: 0.1709 - accuracy: 0.9661 - val_loss: 0.2361 - val_accuracy: 0.9383\n",
            "Epoch 31/50\n",
            "22/22 [==============================] - 0s 8ms/step - loss: 0.1497 - accuracy: 0.9705 - val_loss: 0.2299 - val_accuracy: 0.9339\n",
            "Epoch 32/50\n",
            "22/22 [==============================] - 0s 8ms/step - loss: 0.1735 - accuracy: 0.9647 - val_loss: 0.2255 - val_accuracy: 0.9427\n",
            "Epoch 33/50\n",
            "22/22 [==============================] - 0s 8ms/step - loss: 0.1547 - accuracy: 0.9676 - val_loss: 0.2209 - val_accuracy: 0.9427\n",
            "Epoch 34/50\n",
            "22/22 [==============================] - 0s 8ms/step - loss: 0.1381 - accuracy: 0.9750 - val_loss: 0.2178 - val_accuracy: 0.9427\n",
            "Epoch 35/50\n",
            "22/22 [==============================] - 0s 8ms/step - loss: 0.1393 - accuracy: 0.9676 - val_loss: 0.2170 - val_accuracy: 0.9383\n",
            "Epoch 36/50\n",
            "22/22 [==============================] - 0s 8ms/step - loss: 0.1368 - accuracy: 0.9705 - val_loss: 0.2197 - val_accuracy: 0.9295\n",
            "Epoch 37/50\n",
            "22/22 [==============================] - 0s 8ms/step - loss: 0.1058 - accuracy: 0.9809 - val_loss: 0.2129 - val_accuracy: 0.9383\n",
            "Epoch 38/50\n",
            "22/22 [==============================] - 0s 8ms/step - loss: 0.1279 - accuracy: 0.9661 - val_loss: 0.2063 - val_accuracy: 0.9383\n",
            "Epoch 39/50\n",
            "22/22 [==============================] - 0s 8ms/step - loss: 0.1206 - accuracy: 0.9676 - val_loss: 0.2082 - val_accuracy: 0.9383\n",
            "Epoch 40/50\n",
            "22/22 [==============================] - 0s 8ms/step - loss: 0.1011 - accuracy: 0.9720 - val_loss: 0.2050 - val_accuracy: 0.9427\n",
            "Epoch 41/50\n",
            "22/22 [==============================] - 0s 8ms/step - loss: 0.0961 - accuracy: 0.9779 - val_loss: 0.2088 - val_accuracy: 0.9383\n",
            "Epoch 42/50\n",
            "22/22 [==============================] - 0s 8ms/step - loss: 0.0972 - accuracy: 0.9750 - val_loss: 0.2071 - val_accuracy: 0.9427\n",
            "Epoch 43/50\n",
            "22/22 [==============================] - 0s 8ms/step - loss: 0.0856 - accuracy: 0.9779 - val_loss: 0.2056 - val_accuracy: 0.9427\n",
            "Epoch 44/50\n",
            "22/22 [==============================] - 0s 8ms/step - loss: 0.1025 - accuracy: 0.9720 - val_loss: 0.2039 - val_accuracy: 0.9427\n",
            "Epoch 45/50\n",
            "22/22 [==============================] - 0s 9ms/step - loss: 0.0786 - accuracy: 0.9764 - val_loss: 0.2069 - val_accuracy: 0.9383\n",
            "Epoch 46/50\n",
            "22/22 [==============================] - 0s 9ms/step - loss: 0.0896 - accuracy: 0.9809 - val_loss: 0.2133 - val_accuracy: 0.9383\n",
            "Epoch 47/50\n",
            "22/22 [==============================] - 0s 8ms/step - loss: 0.0915 - accuracy: 0.9705 - val_loss: 0.2118 - val_accuracy: 0.9427\n",
            "Epoch 48/50\n",
            "22/22 [==============================] - 0s 9ms/step - loss: 0.0841 - accuracy: 0.9779 - val_loss: 0.2078 - val_accuracy: 0.9427\n",
            "Epoch 49/50\n",
            "22/22 [==============================] - 0s 9ms/step - loss: 0.0904 - accuracy: 0.9764 - val_loss: 0.2052 - val_accuracy: 0.9427\n",
            "Epoch 50/50\n",
            "22/22 [==============================] - 0s 8ms/step - loss: 0.0854 - accuracy: 0.9794 - val_loss: 0.2004 - val_accuracy: 0.9427\n"
          ]
        }
      ],
      "source": [
        "history_4 = model4.fit(X_train, y_train,\n",
        "                       batch_size=32,\n",
        "                       epochs=50,\n",
        "                       validation_data=(X_test, y_test))"
      ]
    },
    {
      "cell_type": "code",
      "execution_count": null,
      "metadata": {
        "colab": {
          "base_uri": "https://localhost:8080/"
        },
        "id": "tf-gE9K5qq0-",
        "outputId": "4afa7b79-7f96-4ef8-eab7-d6576036081b"
      },
      "outputs": [
        {
          "output_type": "stream",
          "name": "stdout",
          "text": [
            "Training Accuracy: 0.9985\n",
            "Testing Accuracy:  0.9427\n"
          ]
        }
      ],
      "source": [
        "loss, accuracy = model4.evaluate(X_train, y_train, verbose=False)\n",
        "print(\"Training Accuracy: {:.4f}\".format(accuracy))\n",
        "loss, accuracy = model4.evaluate(X_test, y_test, verbose=False)\n",
        "print(\"Testing Accuracy:  {:.4f}\".format(accuracy))"
      ]
    },
    {
      "cell_type": "code",
      "execution_count": null,
      "metadata": {
        "colab": {
          "base_uri": "https://localhost:8080/",
          "height": 541
        },
        "id": "skqAozltquzR",
        "outputId": "912a38d5-ca80-4eed-9817-6556463dc603"
      },
      "outputs": [
        {
          "output_type": "display_data",
          "data": {
            "text/plain": [
              "<Figure size 432x288 with 1 Axes>"
            ],
            "image/png": "[encoded data removed]"
          },
          "metadata": {
            "needs_background": "light"
          }
        },
        {
          "output_type": "display_data",
          "data": {
            "text/plain": [
              "<Figure size 432x288 with 1 Axes>"
            ],
            "image/png": "[encoded data removed]"
          },
          "metadata": {
            "needs_background": "light"
          }
        }
      ],
      "source": [
        "plot_graphs(history_4, \"accuracy\")\n",
        "plot_graphs(history_4, \"loss\")"
      ]
    },
    {
      "cell_type": "markdown",
      "metadata": {
        "id": "bAT2Y3SjaCjd"
      },
      "source": [
        "**Convolutional Neural Network (CNN)**\n",
        "\n",
        "A simple CNN architecture: Embedding layer with single layer Convolutional Neural Network (with RELU activation), and the GlobalMaxPool1D layer as well. The hidden layer using the ReLU activation function and an output layer using the softmax activation function. We used the Adam optimizer and categorical cross entropy loss as the loss function."
      ]
    },
    {
      "cell_type": "code",
      "execution_count": null,
      "metadata": {
        "colab": {
          "base_uri": "https://localhost:8080/"
        },
        "id": "GF0GK9lrquvH",
        "outputId": "df9d024b-22d6-43a0-c183-fe571f25b39e"
      },
      "outputs": [
        {
          "output_type": "stream",
          "name": "stdout",
          "text": [
            "Model: \"sequential_4\"\n",
            "_________________________________________________________________\n",
            " Layer (type)                Output Shape              Param #   \n",
            "=================================================================\n",
            " embedding_4 (Embedding)     (None, 100, 50)           225950    \n",
            "                                                                 \n",
            " conv1d (Conv1D)             (None, 96, 128)           32128     \n",
            "                                                                 \n",
            " global_max_pooling1d_2 (Glo  (None, 128)              0         \n",
            " balMaxPooling1D)                                                \n",
            "                                                                 \n",
            " dense_8 (Dense)             (None, 10)                1290      \n",
            "                                                                 \n",
            " dense_9 (Dense)             (None, 5)                 55        \n",
            "                                                                 \n",
            "=================================================================\n",
            "Total params: 259,423\n",
            "Trainable params: 259,423\n",
            "Non-trainable params: 0\n",
            "_________________________________________________________________\n"
          ]
        }
      ],
      "source": [
        "embedding_dim = 50\n",
        "\n",
        "model5 = Sequential()\n",
        "model5.add(Embedding(input_dim=vocab_size, output_dim=embedding_dim, input_length=maxlen))\n",
        "model5.add(Conv1D(128, 5, activation='relu'))\n",
        "model5.add(GlobalMaxPool1D())\n",
        "model5.add(Dense(10, activation='relu'))\n",
        "model5.add(Dense(5, activation='softmax'))\n",
        "\n",
        "model5.compile(optimizer='adam',\n",
        "               loss='categorical_crossentropy',\n",
        "               metrics=['accuracy'])\n",
        "\n",
        "model5.summary()"
      ]
    },
    {
      "cell_type": "markdown",
      "metadata": {
        "id": "UzU7Mm5jkL5F"
      },
      "source": [
        "We trained CNN model for 5 epoch:"
      ]
    },
    {
      "cell_type": "code",
      "execution_count": null,
      "metadata": {
        "colab": {
          "base_uri": "https://localhost:8080/"
        },
        "id": "QUCJJZbQqusm",
        "outputId": "33e1f1ca-781d-401c-d9c4-7497f9b000cf"
      },
      "outputs": [
        {
          "output_type": "stream",
          "name": "stdout",
          "text": [
            "Epoch 1/20\n",
            "68/68 [==============================] - 2s 16ms/step - loss: 1.5058 - accuracy: 0.3873 - val_loss: 1.3467 - val_accuracy: 0.4670\n",
            "Epoch 2/20\n",
            "68/68 [==============================] - 1s 14ms/step - loss: 1.1199 - accuracy: 0.5552 - val_loss: 0.6775 - val_accuracy: 0.7797\n",
            "Epoch 3/20\n",
            "68/68 [==============================] - 1s 13ms/step - loss: 0.4479 - accuracy: 0.8675 - val_loss: 0.3092 - val_accuracy: 0.9119\n",
            "Epoch 4/20\n",
            "68/68 [==============================] - 1s 14ms/step - loss: 0.1733 - accuracy: 0.9588 - val_loss: 0.2272 - val_accuracy: 0.9339\n",
            "Epoch 5/20\n",
            "68/68 [==============================] - 1s 15ms/step - loss: 0.0749 - accuracy: 0.9838 - val_loss: 0.2151 - val_accuracy: 0.9207\n",
            "Epoch 6/20\n",
            "68/68 [==============================] - 1s 13ms/step - loss: 0.0380 - accuracy: 0.9941 - val_loss: 0.2179 - val_accuracy: 0.9251\n",
            "Epoch 7/20\n",
            "68/68 [==============================] - 1s 13ms/step - loss: 0.0233 - accuracy: 0.9985 - val_loss: 0.2023 - val_accuracy: 0.9339\n",
            "Epoch 8/20\n",
            "68/68 [==============================] - 1s 13ms/step - loss: 0.0164 - accuracy: 0.9985 - val_loss: 0.2282 - val_accuracy: 0.9251\n",
            "Epoch 9/20\n",
            "68/68 [==============================] - 1s 14ms/step - loss: 0.0174 - accuracy: 0.9985 - val_loss: 0.2088 - val_accuracy: 0.9339\n",
            "Epoch 10/20\n",
            "68/68 [==============================] - 1s 14ms/step - loss: 0.0069 - accuracy: 1.0000 - val_loss: 0.2158 - val_accuracy: 0.9383\n",
            "Epoch 11/20\n",
            "68/68 [==============================] - 1s 13ms/step - loss: 0.0174 - accuracy: 0.9971 - val_loss: 0.2032 - val_accuracy: 0.9383\n",
            "Epoch 12/20\n",
            "68/68 [==============================] - 1s 14ms/step - loss: 0.0159 - accuracy: 0.9971 - val_loss: 0.2179 - val_accuracy: 0.9251\n",
            "Epoch 13/20\n",
            "68/68 [==============================] - 2s 25ms/step - loss: 0.0069 - accuracy: 0.9971 - val_loss: 0.2082 - val_accuracy: 0.9339\n",
            "Epoch 14/20\n",
            "68/68 [==============================] - 2s 26ms/step - loss: 0.0094 - accuracy: 0.9985 - val_loss: 0.2765 - val_accuracy: 0.9163\n",
            "Epoch 15/20\n",
            "68/68 [==============================] - 2s 25ms/step - loss: 0.0149 - accuracy: 0.9971 - val_loss: 0.2655 - val_accuracy: 0.9207\n",
            "Epoch 16/20\n",
            "68/68 [==============================] - 2s 23ms/step - loss: 0.0094 - accuracy: 0.9971 - val_loss: 0.2426 - val_accuracy: 0.9207\n",
            "Epoch 17/20\n",
            "68/68 [==============================] - 2s 27ms/step - loss: 0.0062 - accuracy: 0.9985 - val_loss: 0.2108 - val_accuracy: 0.9383\n",
            "Epoch 18/20\n",
            "68/68 [==============================] - 2s 24ms/step - loss: 0.0084 - accuracy: 0.9985 - val_loss: 0.2672 - val_accuracy: 0.9207\n",
            "Epoch 19/20\n",
            "68/68 [==============================] - 2s 23ms/step - loss: 0.0129 - accuracy: 0.9971 - val_loss: 0.2852 - val_accuracy: 0.9163\n",
            "Epoch 20/20\n",
            "68/68 [==============================] - 2s 30ms/step - loss: 0.0076 - accuracy: 0.9985 - val_loss: 0.2282 - val_accuracy: 0.9339\n"
          ]
        }
      ],
      "source": [
        "history_5 = model5.fit(X_train, y_train,\n",
        "                       batch_size=10,\n",
        "                       epochs=20,\n",
        "                       validation_data=(X_test, y_test))"
      ]
    },
    {
      "cell_type": "code",
      "execution_count": null,
      "metadata": {
        "colab": {
          "base_uri": "https://localhost:8080/"
        },
        "id": "ueVfCA9mquqt",
        "outputId": "12418683-11cd-44c2-d197-fad20164a74f"
      },
      "outputs": [
        {
          "output_type": "stream",
          "name": "stdout",
          "text": [
            "Training Accuracy: 0.9985\n",
            "Testing Accuracy:  0.9339\n"
          ]
        }
      ],
      "source": [
        "loss, accuracy = model5.evaluate(X_train, y_train, verbose=False)\n",
        "print(\"Training Accuracy: {:.4f}\".format(accuracy))\n",
        "loss, accuracy = model5.evaluate(X_test, y_test, verbose=False)\n",
        "print(\"Testing Accuracy:  {:.4f}\".format(accuracy))"
      ]
    },
    {
      "cell_type": "code",
      "execution_count": null,
      "metadata": {
        "colab": {
          "base_uri": "https://localhost:8080/",
          "height": 541
        },
        "id": "umUCVe_KaS0C",
        "outputId": "8a320f5f-0733-44ab-d27f-c6793dbd0eed"
      },
      "outputs": [
        {
          "output_type": "display_data",
          "data": {
            "text/plain": [
              "<Figure size 432x288 with 1 Axes>"
            ],
            "image/png": "[encoded data removed]"
          },
          "metadata": {
            "needs_background": "light"
          }
        },
        {
          "output_type": "display_data",
          "data": {
            "text/plain": [
              "<Figure size 432x288 with 1 Axes>"
            ],
            "image/png": "[encoded data removed]"
          },
          "metadata": {
            "needs_background": "light"
          }
        }
      ],
      "source": [
        "plot_graphs(history_5, \"accuracy\")\n",
        "plot_graphs(history_5, \"loss\")"
      ]
    },
    {
      "cell_type": "code",
      "execution_count": null,
      "metadata": {
        "id": "LYcp0sGTdB-t",
        "colab": {
          "base_uri": "https://localhost:8080/",
          "height": 17
        },
        "outputId": "ab267960-4d25-44cb-a1fe-b0b86f223aa7"
      },
      "outputs": [
        {
          "output_type": "display_data",
          "data": {
            "text/plain": [
              "<IPython.core.display.Javascript object>"
            ],
            "application/javascript": [
              "\n",
              "    async function download(id, filename, size) {\n",
              "      if (!google.colab.kernel.accessAllowed) {\n",
              "        return;\n",
              "      }\n",
              "      const div = document.createElement('div');\n",
              "      const label = document.createElement('label');\n",
              "      label.textContent = `Downloading \"${filename}\": `;\n",
              "      div.appendChild(label);\n",
              "      const progress = document.createElement('progress');\n",
              "      progress.max = size;\n",
              "      div.appendChild(progress);\n",
              "      document.body.appendChild(div);\n",
              "\n",
              "      const buffers = [];\n",
              "      let downloaded = 0;\n",
              "\n",
              "      const channel = await google.colab.kernel.comms.open(id);\n",
              "      // Send a message to notify the kernel that we're ready.\n",
              "      channel.send({})\n",
              "\n",
              "      for await (const message of channel.messages) {\n",
              "        // Send a message to notify the kernel that we're ready.\n",
              "        channel.send({})\n",
              "        if (message.buffers) {\n",
              "          for (const buffer of message.buffers) {\n",
              "            buffers.push(buffer);\n",
              "            downloaded += buffer.byteLength;\n",
              "            progress.value = downloaded;\n",
              "          }\n",
              "        }\n",
              "      }\n",
              "      const blob = new Blob(buffers, {type: 'application/binary'});\n",
              "      const a = document.createElement('a');\n",
              "      a.href = window.URL.createObjectURL(blob);\n",
              "      a.download = filename;\n",
              "      div.appendChild(a);\n",
              "      a.click();\n",
              "      div.remove();\n",
              "    }\n",
              "  "
            ]
          },
          "metadata": {}
        },
        {
          "output_type": "display_data",
          "data": {
            "text/plain": [
              "<IPython.core.display.Javascript object>"
            ],
            "application/javascript": [
              "download(\"download_8d068333-c968-4d33-ad59-b87b6a2b6705\", \"model5.json\", 1683)"
            ]
          },
          "metadata": {}
        }
      ],
      "source": [
        "from google.colab import files\n",
        "model_json = model.to_json()\n",
        "with open(\"model5.json\",\"w\") as json_file:\n",
        "     json_file.write(model_json)\n",
        "\n",
        "files.download(\"model5.json\")"
      ]
    },
    {
      "cell_type": "code",
      "source": [
        "from google.colab import files\n",
        "model5.save('weights.h5')\n",
        "files.download('weights.h5')"
      ],
      "metadata": {
        "colab": {
          "base_uri": "https://localhost:8080/",
          "height": 17
        },
        "id": "rPYsUeZlFwBj",
        "outputId": "7b4f81db-8367-44da-fc93-2ca59707ca4d"
      },
      "execution_count": null,
      "outputs": [
        {
          "output_type": "display_data",
          "data": {
            "text/plain": [
              "<IPython.core.display.Javascript object>"
            ],
            "application/javascript": [
              "\n",
              "    async function download(id, filename, size) {\n",
              "      if (!google.colab.kernel.accessAllowed) {\n",
              "        return;\n",
              "      }\n",
              "      const div = document.createElement('div');\n",
              "      const label = document.createElement('label');\n",
              "      label.textContent = `Downloading \"${filename}\": `;\n",
              "      div.appendChild(label);\n",
              "      const progress = document.createElement('progress');\n",
              "      progress.max = size;\n",
              "      div.appendChild(progress);\n",
              "      document.body.appendChild(div);\n",
              "\n",
              "      const buffers = [];\n",
              "      let downloaded = 0;\n",
              "\n",
              "      const channel = await google.colab.kernel.comms.open(id);\n",
              "      // Send a message to notify the kernel that we're ready.\n",
              "      channel.send({})\n",
              "\n",
              "      for await (const message of channel.messages) {\n",
              "        // Send a message to notify the kernel that we're ready.\n",
              "        channel.send({})\n",
              "        if (message.buffers) {\n",
              "          for (const buffer of message.buffers) {\n",
              "            buffers.push(buffer);\n",
              "            downloaded += buffer.byteLength;\n",
              "            progress.value = downloaded;\n",
              "          }\n",
              "        }\n",
              "      }\n",
              "      const blob = new Blob(buffers, {type: 'application/binary'});\n",
              "      const a = document.createElement('a');\n",
              "      a.href = window.URL.createObjectURL(blob);\n",
              "      a.download = filename;\n",
              "      div.appendChild(a);\n",
              "      a.click();\n",
              "      div.remove();\n",
              "    }\n",
              "  "
            ]
          },
          "metadata": {}
        },
        {
          "output_type": "display_data",
          "data": {
            "text/plain": [
              "<IPython.core.display.Javascript object>"
            ],
            "application/javascript": [
              "download(\"download_8340b123-4629-46e2-a1f2-4d363797d951\", \"weights.h5\", 3151176)"
            ]
          },
          "metadata": {}
        }
      ]
    }
  ],
  "metadata": {
    "colab": {
      "collapsed_sections": [],
      "name": "NLP_PROJECT.ipynb",
      "provenance": []
    },
    "kernelspec": {
      "display_name": "Python 3",
      "language": "python",
      "name": "python3"
    },
    "language_info": {
      "codemirror_mode": {
        "name": "ipython",
        "version": 3
      },
      "file_extension": ".py",
      "mimetype": "text/x-python",
      "name": "python",
      "nbconvert_exporter": "python",
      "pygments_lexer": "ipython3",
      "version": "3.6.7"
    }
  },
  "nbformat": 4,
  "nbformat_minor": 0
}